{
 "cells": [
  {
   "cell_type": "code",
   "execution_count": 4,
   "metadata": {},
   "outputs": [
    {
     "ename": "IOException",
     "evalue": "IO Error: File is already open in \nC:\\Users\\Rahimjon\\AppData\\Local\\Programs\\Python\\Python313\\python.exe (PID 26852)",
     "output_type": "error",
     "traceback": [
      "\u001b[31m---------------------------------------------------------------------------\u001b[39m",
      "\u001b[31mIOException\u001b[39m                               Traceback (most recent call last)",
      "\u001b[36mCell\u001b[39m\u001b[36m \u001b[39m\u001b[32mIn[4]\u001b[39m\u001b[32m, line 4\u001b[39m\n\u001b[32m      1\u001b[39m \u001b[38;5;28;01mimport\u001b[39;00m\u001b[38;5;250m \u001b[39m\u001b[34;01mduckdb\u001b[39;00m\n\u001b[32m      3\u001b[39m \u001b[38;5;66;03m# Подключаемся к базе данных\u001b[39;00m\n\u001b[32m----> \u001b[39m\u001b[32m4\u001b[39m conn = \u001b[43mduckdb\u001b[49m\u001b[43m.\u001b[49m\u001b[43mconnect\u001b[49m\u001b[43m(\u001b[49m\u001b[33;43m\"\u001b[39;49m\u001b[33;43mmy.db\u001b[39;49m\u001b[33;43m\"\u001b[39;49m\u001b[43m,\u001b[49m\u001b[43m \u001b[49m\u001b[43mread_only\u001b[49m\u001b[43m=\u001b[49m\u001b[38;5;28;43;01mTrue\u001b[39;49;00m\u001b[43m)\u001b[49m\n\u001b[32m      6\u001b[39m \u001b[38;5;66;03m# Получаем список таблиц\u001b[39;00m\n\u001b[32m      7\u001b[39m tables = conn.execute(\u001b[33m\"\u001b[39m\u001b[33mSHOW TABLES\u001b[39m\u001b[33m\"\u001b[39m).fetchall()\n",
      "\u001b[31mIOException\u001b[39m: IO Error: File is already open in \nC:\\Users\\Rahimjon\\AppData\\Local\\Programs\\Python\\Python313\\python.exe (PID 26852)"
     ]
    }
   ],
   "source": [
    "import duckdb\n",
    "\n",
    "# Подключаемся к базе данных\n",
    "conn = duckdb.connect(\"my.db\", read_only=True)\n",
    "\n",
    "# Получаем список таблиц\n",
    "tables = conn.execute(\"SHOW TABLES\").fetchall()\n",
    "\n",
    "# Выводим результат\n",
    "print(\"📌 Список таблиц в базе данных:\")\n",
    "for table in tables:\n",
    "    print(f\"✅ {table[0]}\")"
   ]
  },
  {
   "cell_type": "code",
   "execution_count": 1,
   "metadata": {},
   "outputs": [
    {
     "name": "stdout",
     "output_type": "stream",
     "text": [
      "Ошибка при получении временных границ: IO Error: File is already open in \n",
      "C:\\Users\\Rahimjon\\AppData\\Local\\Programs\\Python\\Python313\\python.exe (PID 2628)\n",
      "(None, None)\n"
     ]
    }
   ],
   "source": [
    "from db import fetch_date_boundaries\n",
    "print(fetch_date_boundaries())"
   ]
  },
  {
   "cell_type": "code",
   "execution_count": 2,
   "metadata": {},
   "outputs": [
    {
     "name": "stdout",
     "output_type": "stream",
     "text": [
      "📊 Записей в weather: 0\n"
     ]
    }
   ],
   "source": [
    "import duckdb\n",
    "\n",
    "conn = duckdb.connect(\"my.db\")\n",
    "\n",
    "# Проверяем количество записей\n",
    "result = conn.execute(\"SELECT COUNT(*) FROM weather;\").fetchone()\n",
    "print(f\"📊 Записей в weather: {result[0]}\")"
   ]
  },
  {
   "cell_type": "code",
   "execution_count": null,
   "metadata": {},
   "outputs": [
    {
     "name": "stdout",
     "output_type": "stream",
     "text": [
      "📅 Даты в weather: [(None, None)]\n"
     ]
    },
    {
     "ename": "",
     "evalue": "",
     "output_type": "error",
     "traceback": [
      "\u001b[1;31mThe Kernel crashed while executing code in the current cell or a previous cell. \n",
      "\u001b[1;31mPlease review the code in the cell(s) to identify a possible cause of the failure. \n",
      "\u001b[1;31mClick <a href='https://aka.ms/vscodeJupyterKernelCrash'>here</a> for more info. \n",
      "\u001b[1;31mView Jupyter <a href='command:jupyter.viewOutput'>log</a> for further details."
     ]
    }
   ],
   "source": [
    "result = conn.execute(\"SELECT MIN(last_updated), MAX(last_updated) FROM weather;\").fetchall()\n",
    "print(f\"📅 Даты в weather: {result}\")"
   ]
  },
  {
   "cell_type": "code",
   "execution_count": 1,
   "metadata": {},
   "outputs": [
    {
     "name": "stdout",
     "output_type": "stream",
     "text": [
      "📌 Колонки в Weather: ['weather_id', 'location_id', 'last_updated', 'temperature_celsius', 'condition_text', 'humidity', 'wind_kph']\n",
      "📌 Колонки в AirQuality: ['air_quality_id', 'location_id', 'air_quality_PM2.5', 'air_quality_PM10', 'air_quality_us-epa-index', 'air_quality_gb-defra-index']\n"
     ]
    }
   ],
   "source": [
    "import pandas as pd\n",
    "\n",
    "file_path = \"source/ExtendedGlobalWeatherData.xlsx\"\n",
    "\n",
    "xls = pd.ExcelFile(file_path)\n",
    "\n",
    "# Проверяем доступные колонки в Weather\n",
    "if \"Weather\" in xls.sheet_names:\n",
    "    df_weather = pd.read_excel(xls, sheet_name=\"Weather\")\n",
    "    print(\"📌 Колонки в Weather:\", df_weather.columns.tolist())\n",
    "else:\n",
    "    print(\"❌ В файле нет листа 'Weather'\")\n",
    "\n",
    "# Проверяем доступные колонки в AirQuality\n",
    "if \"AirQuality\" in xls.sheet_names:\n",
    "    df_air = pd.read_excel(xls, sheet_name=\"AirQuality\")\n",
    "    print(\"📌 Колонки в AirQuality:\", df_air.columns.tolist())\n",
    "else:\n",
    "    print(\"❌ В файле нет листа 'AirQuality'\")"
   ]
  },
  {
   "cell_type": "code",
   "execution_count": 1,
   "metadata": {},
   "outputs": [
    {
     "name": "stdout",
     "output_type": "stream",
     "text": [
      "🔍 Записей в weather: 0\n"
     ]
    }
   ],
   "source": [
    "import duckdb\n",
    "\n",
    "db_file = \"my.db\"\n",
    "\n",
    "with duckdb.connect(db_file) as conn:\n",
    "    count = conn.execute(\"SELECT COUNT(*) FROM weather\").fetchone()[0]\n",
    "    print(f\"🔍 Записей в weather: {count}\")\n"
   ]
  }
 ],
 "metadata": {
  "kernelspec": {
   "display_name": "Python 3",
   "language": "python",
   "name": "python3"
  },
  "language_info": {
   "codemirror_mode": {
    "name": "ipython",
    "version": 3
   },
   "file_extension": ".py",
   "mimetype": "text/x-python",
   "name": "python",
   "nbconvert_exporter": "python",
   "pygments_lexer": "ipython3",
   "version": "3.13.0"
  }
 },
 "nbformat": 4,
 "nbformat_minor": 2
}
